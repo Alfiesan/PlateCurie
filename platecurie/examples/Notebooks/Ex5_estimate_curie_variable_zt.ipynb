{
 "cells": [
  {
   "cell_type": "markdown",
   "metadata": {},
   "source": [
    "# Example 6: Estimating parameters using a priori constraints on `zt`"
   ]
  },
  {
   "cell_type": "markdown",
   "metadata": {},
   "source": [
    "In the previous example we mapped the four model parameters (`A`, `zt`, `dz`, and `beta`) over the entire grid.  In this final example we will fix the model parameter `zt` obtained independently and re-estimate the parameters. This is done through a new `ZtGrid` object that also inherits from the `PlateFlex` `Grid` class. In this example we use the sedimentary thickness map `SEDMAP` from [Laske and Masters](https://igppweb.ucsd.edu/~gabi/sediment.html) as an estimate of `zt`, as in [Gaudreau et al. (2019)](https://agupubs.onlinelibrary.wiley.com/doi/abs/10.1029/2018JB016726).\n",
    "\n",
    "We will perform the inversion twice: a first time by estmating `beta` and a second time by fixing it to some pre-defined (arbitrary value). Furthermore, we will change the wavelet parameter `k0` to `10` to be consistent with the paper by Gaudreau et al. (2019).\n",
    "\n",
    "<div class=\"alert alert-block alert-warning\">\n",
    "<b>Warning:</b> Be careful to ensure that all the data sets have the same grid specifications (i.e., registration, shape, sampling distance, etc.)!!\n",
    "</div>"
   ]
  },
  {
   "cell_type": "code",
   "execution_count": null,
   "metadata": {},
   "outputs": [
    {
     "name": "stdout",
     "output_type": "stream",
     "text": [
      "grid contains NaN values. Performing interpolation...\n"
     ]
    },
    {
     "data": {
      "text/plain": [
       "<Figure size 640x480 with 2 Axes>"
      ]
     },
     "metadata": {},
     "output_type": "display_data"
    },
    {
     "data": {
      "text/plain": [
       "<Figure size 640x480 with 2 Axes>"
      ]
     },
     "metadata": {},
     "output_type": "display_data"
    }
   ],
   "source": [
    "import numpy as np\n",
    "import pandas as pd\n",
    "from platecurie import MagGrid, ZtGrid, Project\n",
    "\n",
    "# Change wavelet parameter k0\n",
    "import platecurie\n",
    "platecurie.set_conf_cpwt(k0=10.)\n",
    "\n",
    "xmin, xmax, ymin, ymax, zmin, zmax, dx, dy, nx, ny = \\\n",
    "pd.read_csv('../data/Mag_NWCAN.xyz', sep='\\t', nrows=0).columns[1:].values.astype(float)\n",
    "nx = int(nx); ny = int(ny)\n",
    "\n",
    "magdata = pd.read_csv('../data/Mag_NWCAN.xyz', sep='\\t', \\\n",
    "    skiprows=1, names=['x', 'y', 'z'])['z'].values.reshape(ny,nx)[::-1]\n",
    "seddata = pd.read_csv('../data/Sed_NWCAN.xyz', sep='\\t', \\\n",
    "    skiprows=1, names=['x', 'y', 'z'])['z'].values.reshape(ny,nx)[::-1]\n",
    "\n",
    "magdata[magdata<-750] = np.nan\n",
    "magdata[magdata>1000] = np.nan\n",
    "\n",
    "# Load the data into a MagGrid object\n",
    "mag = MagGrid(magdata, dx, dy)\n",
    "\n",
    "# Load the data into a ZtGrid object\n",
    "sed = ZtGrid(seddata, dx, dy)\n",
    "\n",
    "# Generate a mask\n",
    "mask = (magdata==0)\n",
    "\n",
    "# Plot both magnetic anomaly data and sediment thickness data\n",
    "mag.plot(mask=mask, vmin=-300, vmax=300, cmap='cividis')\n",
    "sed.plot(mask=mask, vmin=0., vmax=12., cmap='cividis')\n",
    "\n",
    "# Load grids into Project and initialize it\n",
    "project = Project(grids=[mag, sed])\n",
    "project.init()\n",
    "\n",
    "# Store mask as attribute\n",
    "project.mask = mask\n",
    "\n",
    "# Estimate model parameters \n",
    "project.estimate_grid(10)\n",
    "\n",
    "# Plot all maps simultaneously\n",
    "project.plot_results(mean_A=True, mean_dz=True, mean_beta=True, chi2=True, mask=True)"
   ]
  },
  {
   "cell_type": "markdown",
   "metadata": {},
   "source": [
    "Let's do the same but with `beta` fixed to 2.5"
   ]
  },
  {
   "cell_type": "code",
   "execution_count": null,
   "metadata": {},
   "outputs": [],
   "source": [
    "# Estimate model parameters \n",
    "project.estimate_grid(10, fix_beta=2.5)\n",
    "\n",
    "# Plot all maps simultaneously\n",
    "project.plot_results(mean_A=True, mean_dz=True, mean_beta=True, chi2=True, mask=True)"
   ]
  }
 ],
 "metadata": {
  "kernelspec": {
   "display_name": "Python 3",
   "language": "python",
   "name": "python3"
  },
  "language_info": {
   "codemirror_mode": {
    "name": "ipython",
    "version": 3
   },
   "file_extension": ".py",
   "mimetype": "text/x-python",
   "name": "python",
   "nbconvert_exporter": "python",
   "pygments_lexer": "ipython3",
   "version": "3.7.3"
  }
 },
 "nbformat": 4,
 "nbformat_minor": 2
}
